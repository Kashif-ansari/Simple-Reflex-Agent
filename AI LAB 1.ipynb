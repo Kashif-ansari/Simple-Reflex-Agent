{
 "cells": [
  {
   "cell_type": "markdown",
   "id": "6b38a56b",
   "metadata": {},
   "source": [
    "# Simple Reflex Agent"
   ]
  },
  {
   "cell_type": "code",
   "execution_count": 7,
   "id": "f92be15f",
   "metadata": {},
   "outputs": [
    {
     "name": "stdout",
     "output_type": "stream",
     "text": [
      "Menu\n",
      "0: Kashif 1:Ammar 2:Mehdi 3:Moiz\n",
      "Input a number1\n",
      "Cry\n"
     ]
    }
   ],
   "source": [
    "preception = [\"Kashif\",\"Ammar\",\"Mehdi\",\"Moiz\"]\n",
    "state = [\"Happy\", \"Sad\", \"Angery\",\"Normal\"]\n",
    "rule = [\"Smile\",\"Cry\",\"Frown\",\"Watch Football\"]\n",
    "def GetState(c):\n",
    "    index = -1\n",
    "    for p in preception:\n",
    "        index +=1\n",
    "        if p == c:\n",
    "            return state[index]\n",
    "def GetRule(cs):\n",
    "    index = -1\n",
    "    for p in state:\n",
    "        index +=1\n",
    "        if p == cs:\n",
    "            return rule[index]\n",
    "def SimpleReflexAgent(c):\n",
    "    return GetRule(GetState(c))\n",
    "print(\"Menu\")\n",
    "print(\"0: Kashif 1:Ammar 2:Mehdi 3:Moiz\")\n",
    "print(SimpleReflexAgent(preception[int(input(\"Input a number\"))]))"
   ]
  },
  {
   "cell_type": "code",
   "execution_count": 17,
   "id": "b4afc35a",
   "metadata": {},
   "outputs": [
    {
     "name": "stdout",
     "output_type": "stream",
     "text": [
      "Menu\n",
      "0: A 1:B 2:C 3:D\n",
      "Input a number3\n",
      "Cleaning room D\n",
      "Cleaned\n",
      "moving to next room\n",
      "Cleaning room B\n",
      "Everything is cleaned\n"
     ]
    }
   ],
   "source": [
    "preception = [\"A\",\"B\",\"C\",\"D\"]\n",
    "state = [\"Clean\", \"Dirty\", \"Dirty\",\"Clean\"]\n",
    "rule = [\"Cleaned\",\"Cleaned\",\"Cleaned\",\"Cleaned\"]\n",
    "def GetState(c):\n",
    "    index = -1\n",
    "    for p in preception:\n",
    "        index +=1\n",
    "        if p == c:\n",
    "            if state[index] == \"Clean\":\n",
    "                print(\"Room \", c, \" Already cleaned moving to next room\")\n",
    "                c = preception[index+1]\n",
    "                return GetState(c)\n",
    "            else:\n",
    "                \n",
    "                return state[index]\n",
    "        else:\n",
    "            \n",
    "            print(\"Cleaning room\", c)\n",
    "            \n",
    "            return state[index]\n",
    "def GetRule(cs):\n",
    "    index = -1\n",
    "    for p in state:\n",
    "        index +=1\n",
    "        if p == cs:\n",
    "            print(rule[index])\n",
    "            state[index] = \"Clean\"\n",
    "            print(\"moving to next room\")\n",
    "            GetState(preception[index+1])\n",
    "        else:\n",
    "            return \"Everything is cleaned\"\n",
    "            \n",
    "def SimpleReflexAgent(c):\n",
    "    return GetRule(GetState(c))\n",
    "print(\"Menu\")\n",
    "print(\"0: A 1:B 2:C 3:D\")\n",
    "print(SimpleReflexAgent(preception[int(input(\"Input a number\"))]))\n"
   ]
  },
  {
   "cell_type": "code",
   "execution_count": 15,
   "id": "91693f84",
   "metadata": {},
   "outputs": [
    {
     "name": "stdout",
     "output_type": "stream",
     "text": [
      "0\n",
      "1\n",
      "2\n",
      "3\n",
      "4\n",
      "5\n"
     ]
    }
   ],
   "source": [
    "c=0\n",
    "for i in range(c,6):\n",
    "    print(i)"
   ]
  },
  {
   "cell_type": "code",
   "execution_count": null,
   "id": "88b475d2",
   "metadata": {},
   "outputs": [],
   "source": []
  }
 ],
 "metadata": {
  "kernelspec": {
   "display_name": "Python 3",
   "language": "python",
   "name": "python3"
  },
  "language_info": {
   "codemirror_mode": {
    "name": "ipython",
    "version": 3
   },
   "file_extension": ".py",
   "mimetype": "text/x-python",
   "name": "python",
   "nbconvert_exporter": "python",
   "pygments_lexer": "ipython3",
   "version": "3.8.8"
  }
 },
 "nbformat": 4,
 "nbformat_minor": 5
}
